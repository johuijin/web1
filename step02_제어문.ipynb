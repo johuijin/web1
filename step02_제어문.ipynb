{
 "cells": [
  {
   "cell_type": "markdown",
   "metadata": {},
   "source": [
    "- 출력 포멧"
   ]
  },
  {
   "cell_type": "code",
   "execution_count": 1,
   "metadata": {},
   "outputs": [
    {
     "name": "stdout",
     "output_type": "stream",
     "text": [
      "23\n",
      "54321\n",
      "12345abc\n",
      "12345 12345\n"
     ]
    }
   ],
   "source": [
    "print(\"12345\"[1:3])\n",
    "print(\"12345\"[::-1])\n",
    "print(\"12345\"+\"abc\")\n",
    "print(\"12345\",12345)\n"
   ]
  },
  {
   "cell_type": "code",
   "execution_count": 2,
   "metadata": {},
   "outputs": [
    {
     "name": "stdout",
     "output_type": "stream",
     "text": [
      "Hello, world!\n",
      "Hello, 100\n"
     ]
    }
   ],
   "source": [
    "print('Hello, {0}'.format('world!'))\n",
    "print('Hello, {0}'.format(100))"
   ]
  },
  {
   "cell_type": "code",
   "execution_count": 3,
   "metadata": {},
   "outputs": [
    {
     "name": "stdout",
     "output_type": "stream",
     "text": [
      "Hello, Python 3.6 Script\n"
     ]
    }
   ],
   "source": [
    "print('Hello, {0} {2} {1}'.format('Python', 'Script', 3.6))"
   ]
  },
  {
   "cell_type": "code",
   "execution_count": 4,
   "metadata": {},
   "outputs": [
    {
     "name": "stdout",
     "output_type": "stream",
     "text": [
      "Python Python Script Script\n",
      "Hello, Python 3.6\n"
     ]
    }
   ],
   "source": [
    "print('{0} {0} {1} {1}'.format('Python', 'Script'))\n",
    "print('Hello, {language} {version}'.format(language='Python', version=3.6))"
   ]
  },
  {
   "cell_type": "code",
   "execution_count": 5,
   "metadata": {
    "scrolled": false
   },
   "outputs": [
    {
     "name": "stdout",
     "output_type": "stream",
     "text": [
      "001\n",
      "001\n",
      "003\n"
     ]
    }
   ],
   "source": [
    "print('%03d' % 1)\n",
    "print('{0:03d}'.format(1))\n",
    "print('{2:03d}'.format(1,2,3))"
   ]
  },
  {
   "cell_type": "markdown",
   "metadata": {},
   "source": [
    " - 입력(input)"
   ]
  },
  {
   "cell_type": "code",
   "execution_count": 6,
   "metadata": {},
   "outputs": [
    {
     "name": "stdout",
     "output_type": "stream",
     "text": [
      "inch ? 20\n",
      "20 인치는 50.8 cm입니다\n"
     ]
    }
   ],
   "source": [
    "inch=int(input(\"inch ? \"))\n",
    "#print(inch)\n",
    "cm=inch*2.54\n",
    "\n",
    "#print(type(inch))\n",
    "print(inch,\"인치는\",cm,\"cm입니다\")"
   ]
  },
  {
   "cell_type": "markdown",
   "metadata": {},
   "source": [
    "- 제어문(if)"
   ]
  },
  {
   "cell_type": "code",
   "execution_count": 7,
   "metadata": {},
   "outputs": [
    {
     "name": "stdout",
     "output_type": "stream",
     "text": [
      "조건에 맞습니다\n"
     ]
    }
   ],
   "source": [
    "x=11\n",
    "if x> 10:\n",
    "\n",
    "    print(\"조건에 맞습니다\")"
   ]
  },
  {
   "cell_type": "code",
   "execution_count": 8,
   "metadata": {},
   "outputs": [
    {
     "name": "stdout",
     "output_type": "stream",
     "text": [
      "조건에 맞지 않습니다\n"
     ]
    }
   ],
   "source": [
    "x=11\n",
    "if x< 10 and x<20:\n",
    "    print(\"조건에 맞습니다\")\n",
    "else:\n",
    "    print(\"조건에 맞지 않습니다\")"
   ]
  },
  {
   "cell_type": "code",
   "execution_count": 9,
   "metadata": {},
   "outputs": [
    {
     "name": "stdout",
     "output_type": "stream",
     "text": [
      "태어난 년도:20\n",
      "용\n"
     ]
    }
   ],
   "source": [
    "year=int(input(\"태어난 년도:\"))\n",
    "if (year%12)==0:\n",
    "    print(\"원숭이\")\n",
    "elif (year%12)==1:\n",
    "    print(\"닭\")\n",
    "elif (year%12)==2:\n",
    "    print(\"개\")\n",
    "elif (year%12)==3:\n",
    "    print(\"돼지\")\n",
    "elif (year%12)==4:\n",
    "    print(\"쥐\")\n",
    "elif (year%12)==5:\n",
    "    print(\"소\")\n",
    "elif (year%12)==6:\n",
    "    print(\"범\")\n",
    "elif (year%12)==7:\n",
    "    print(\"토끼\")\n",
    "elif (year%12)==8:\n",
    "    print(\"용\")  \n",
    "elif (year%12)==9:\n",
    "    print(\"뱀\") \n",
    "elif (year%12)==10:\n",
    "    print(\"말\") \n",
    "else:\n",
    "    print(\"양\")"
   ]
  },
  {
   "cell_type": "code",
   "execution_count": 10,
   "metadata": {},
   "outputs": [
    {
     "name": "stdout",
     "output_type": "stream",
     "text": [
      "태어난 년도:20\n",
      "용\n"
     ]
    }
   ],
   "source": [
    "#list사용\n",
    "year=int(input(\"태어난 년도:\"))\n",
    "l=[\"원숭이\",\"닭\",\"개\",\"돼지\",\"쥐\",\"소\",\"범\",\"토끼\",\"용\",\"뱀\",\"말\",\"양\"]\n",
    "n=year%12\n",
    "print(l[n])"
   ]
  },
  {
   "cell_type": "code",
   "execution_count": 11,
   "metadata": {},
   "outputs": [
    {
     "name": "stdout",
     "output_type": "stream",
     "text": [
      "태어난 년도:20\n",
      "용\n"
     ]
    }
   ],
   "source": [
    "#tupple사용\n",
    "year=int(input(\"태어난 년도:\"))\n",
    "t=(\"원숭이\",\"닭\",\"개\",\"돼지\",\"쥐\",\"소\",\"범\",\"토끼\",\"용\",\"뱀\",\"말\",\"양\")\n",
    "n=year%12\n",
    "print(t[n])"
   ]
  },
  {
   "cell_type": "code",
   "execution_count": 12,
   "metadata": {},
   "outputs": [
    {
     "name": "stdout",
     "output_type": "stream",
     "text": [
      "태어난 년도:20\n",
      "용\n"
     ]
    }
   ],
   "source": [
    "#dict사용\n",
    "year=int(input(\"태어난 년도:\"))\n",
    "d={'0':'원숭이','1':'닭','2':'개','3':'돼지','4':'쥐','5':'소',\n",
    "   '6':'범','7':'토끼','8':'용','9':'뱀','10':'말','11':'양'}\n",
    "n=year%12\n",
    "print(d[str(n)])"
   ]
  },
  {
   "cell_type": "code",
   "execution_count": null,
   "metadata": {},
   "outputs": [],
   "source": []
  },
  {
   "cell_type": "code",
   "execution_count": null,
   "metadata": {},
   "outputs": [],
   "source": []
  },
  {
   "cell_type": "code",
   "execution_count": 13,
   "metadata": {},
   "outputs": [
    {
     "name": "stdout",
     "output_type": "stream",
     "text": [
      "(1, [1, 2, 3], 2)\n",
      "(1, [10, 2, 3], 2)\n"
     ]
    }
   ],
   "source": [
    "f = (1,[1,2,3],2)\n",
    "print (f)\n",
    "\n",
    "f[1][0]=10\n",
    "print(f)"
   ]
  },
  {
   "cell_type": "code",
   "execution_count": 14,
   "metadata": {},
   "outputs": [
    {
     "name": "stdout",
     "output_type": "stream",
     "text": [
      "False\n",
      "False\n",
      "True\n"
     ]
    }
   ],
   "source": [
    "x = 900000000\n",
    "y = 900000000\n",
    "print(x is y)\n",
    "print(id(x) == id(y))\n",
    "print(x == y)"
   ]
  },
  {
   "cell_type": "code",
   "execution_count": 15,
   "metadata": {},
   "outputs": [
    {
     "name": "stdout",
     "output_type": "stream",
     "text": [
      "1.6666666666666667\n",
      "1.67\n"
     ]
    }
   ],
   "source": [
    "print(5/3)\n",
    "print(\"{:.2f}\".format(5/3))"
   ]
  },
  {
   "cell_type": "markdown",
   "metadata": {},
   "source": [
    "- 제어문 (for)"
   ]
  },
  {
   "cell_type": "code",
   "execution_count": 16,
   "metadata": {},
   "outputs": [
    {
     "name": "stdout",
     "output_type": "stream",
     "text": [
      "9,8,7,6,5,4,3,2,1,0,"
     ]
    }
   ],
   "source": [
    "for i in list(range(10)[::-1]):\n",
    "    print(i,end=',')"
   ]
  },
  {
   "cell_type": "code",
   "execution_count": 17,
   "metadata": {},
   "outputs": [
    {
     "name": "stdout",
     "output_type": "stream",
     "text": [
      "5 4 3 2 1 \n",
      "4 3 2 1 \n",
      "3 2 1 \n",
      "2 1 \n",
      "1 \n",
      "\n"
     ]
    }
   ],
   "source": [
    "for a in range(1,7)[::-1]:            #range(1,7)\n",
    "    for b in range(1,a)[::-1]:\n",
    "        print(b,end=\" \")\n",
    "    print()"
   ]
  },
  {
   "cell_type": "code",
   "execution_count": 18,
   "metadata": {},
   "outputs": [
    {
     "name": "stdout",
     "output_type": "stream",
     "text": [
      "range(0, 6)\n"
     ]
    }
   ],
   "source": [
    "print(range(6))"
   ]
  },
  {
   "cell_type": "code",
   "execution_count": 19,
   "metadata": {},
   "outputs": [
    {
     "name": "stdout",
     "output_type": "stream",
     "text": [
      "                    \n",
      "                   *\n",
      "                  ***\n",
      "                 *****\n",
      "                *******\n",
      "               *********\n",
      "              ***********\n",
      "             *************\n",
      "            ***************\n",
      "           *****************\n"
     ]
    }
   ],
   "source": [
    "for a in  list(range(10)):\n",
    "    for b in range(20-a):\n",
    "        print(\" \",end=\"\")\n",
    "    for b in range(a*2-1):\n",
    "        print(\"*\", end=\"\")\n",
    "    print()    "
   ]
  },
  {
   "cell_type": "code",
   "execution_count": 20,
   "metadata": {},
   "outputs": [
    {
     "name": "stdout",
     "output_type": "stream",
     "text": [
      "                    \n",
      "                   a\n",
      "                  aa\n",
      "                 aaa\n",
      "                aaaa\n",
      "               aaaaa\n",
      "              aaaaaa\n",
      "             aaaaaaa\n",
      "            aaaaaaaa\n",
      "           aaaaaaaaa\n"
     ]
    }
   ],
   "source": [
    "\n",
    "for i in range(10):\n",
    "    print(str(\"a\"*i).rjust(20))"
   ]
  },
  {
   "cell_type": "code",
   "execution_count": 21,
   "metadata": {},
   "outputs": [
    {
     "name": "stdout",
     "output_type": "stream",
     "text": [
      "         *          \n",
      "        ***         \n",
      "       *****        \n",
      "      *******       \n",
      "     *********      \n"
     ]
    }
   ],
   "source": [
    "for i in range(10)[1::2]:\n",
    "    print(str(\"*\"*i).center(20))"
   ]
  },
  {
   "cell_type": "code",
   "execution_count": 22,
   "metadata": {},
   "outputs": [
    {
     "name": "stdout",
     "output_type": "stream",
     "text": [
      "    *     \n",
      "   ***    \n",
      "  *****   \n",
      " *******  \n",
      "********* \n"
     ]
    }
   ],
   "source": [
    "for i in range(1,10,2):\n",
    "    print(\"{:^10}\".format(\"*\"*i))"
   ]
  },
  {
   "cell_type": "code",
   "execution_count": 23,
   "metadata": {},
   "outputs": [
    {
     "name": "stdout",
     "output_type": "stream",
     "text": [
      "00123\n",
      "00123\n",
      "0goofy\n"
     ]
    }
   ],
   "source": [
    "s=\"123\"\n",
    "print(s.zfill(5))\n",
    "print(s.rjust(5,'0'))\n",
    "print('goofy'.zfill(6))"
   ]
  },
  {
   "cell_type": "code",
   "execution_count": 24,
   "metadata": {},
   "outputs": [
    {
     "name": "stdout",
     "output_type": "stream",
     "text": [
      "2 x 1 =  2\n",
      "2 x 2 =  4\n",
      "2 x 3 =  6\n",
      "2 x 4 =  8\n",
      "2 x 5 = 10\n",
      "2 x 6 = 12\n",
      "2 x 7 = 14\n",
      "2 x 8 = 16\n",
      "2 x 9 = 18\n",
      "\n",
      "3 x 1 =  3\n",
      "3 x 2 =  6\n",
      "3 x 3 =  9\n",
      "3 x 4 = 12\n",
      "3 x 5 = 15\n",
      "3 x 6 = 18\n",
      "3 x 7 = 21\n",
      "3 x 8 = 24\n",
      "3 x 9 = 27\n",
      "\n",
      "4 x 1 =  4\n",
      "4 x 2 =  8\n",
      "4 x 3 = 12\n",
      "4 x 4 = 16\n",
      "4 x 5 = 20\n",
      "4 x 6 = 24\n",
      "4 x 7 = 28\n",
      "4 x 8 = 32\n",
      "4 x 9 = 36\n",
      "\n",
      "5 x 1 =  5\n",
      "5 x 2 = 10\n",
      "5 x 3 = 15\n",
      "5 x 4 = 20\n",
      "5 x 5 = 25\n",
      "5 x 6 = 30\n",
      "5 x 7 = 35\n",
      "5 x 8 = 40\n",
      "5 x 9 = 45\n",
      "\n",
      "6 x 1 =  6\n",
      "6 x 2 = 12\n",
      "6 x 3 = 18\n",
      "6 x 4 = 24\n",
      "6 x 5 = 30\n",
      "6 x 6 = 36\n",
      "6 x 7 = 42\n",
      "6 x 8 = 48\n",
      "6 x 9 = 54\n",
      "\n",
      "7 x 1 =  7\n",
      "7 x 2 = 14\n",
      "7 x 3 = 21\n",
      "7 x 4 = 28\n",
      "7 x 5 = 35\n",
      "7 x 6 = 42\n",
      "7 x 7 = 49\n",
      "7 x 8 = 56\n",
      "7 x 9 = 63\n",
      "\n",
      "8 x 1 =  8\n",
      "8 x 2 = 16\n",
      "8 x 3 = 24\n",
      "8 x 4 = 32\n",
      "8 x 5 = 40\n",
      "8 x 6 = 48\n",
      "8 x 7 = 56\n",
      "8 x 8 = 64\n",
      "8 x 9 = 72\n",
      "\n",
      "9 x 1 =  9\n",
      "9 x 2 = 18\n",
      "9 x 3 = 27\n",
      "9 x 4 = 36\n",
      "9 x 5 = 45\n",
      "9 x 6 = 54\n",
      "9 x 7 = 63\n",
      "9 x 8 = 72\n",
      "9 x 9 = 81\n",
      "\n"
     ]
    }
   ],
   "source": [
    "#구구단\n",
    "for i in range(2, 10):\n",
    "    for j in range(1, 10):\n",
    "        print(\"{0} x {1} = {2:2d}\".format(i, j, i*j))\n",
    "    print()\n"
   ]
  },
  {
   "cell_type": "code",
   "execution_count": null,
   "metadata": {},
   "outputs": [],
   "source": []
  },
  {
   "cell_type": "code",
   "execution_count": null,
   "metadata": {},
   "outputs": [],
   "source": []
  },
  {
   "cell_type": "code",
   "execution_count": null,
   "metadata": {},
   "outputs": [],
   "source": []
  },
  {
   "cell_type": "markdown",
   "metadata": {},
   "source": [
    "- 메일 머지"
   ]
  },
  {
   "cell_type": "code",
   "execution_count": 25,
   "metadata": {},
   "outputs": [
    {
     "name": "stdout",
     "output_type": "stream",
     "text": [
      "\n",
      "안녕하세요 Kim님,\n",
      "오늘 면접에 참석해 주실 수 있나요?\n",
      "시간은 10시입니다.\n",
      "그럼 이만~ \n",
      "둘리 드림\n",
      "----------------------------------------\n",
      "\n",
      "\n",
      "안녕하세요 Lee님,\n",
      "오늘 면접에 참석해 주실 수 있나요?\n",
      "시간은 11시입니다.\n",
      "그럼 이만~ \n",
      "둘리 드림\n",
      "----------------------------------------\n",
      "\n",
      "\n",
      "안녕하세요 Park님,\n",
      "오늘 면접에 참석해 주실 수 있나요?\n",
      "시간은 12시입니다.\n",
      "그럼 이만~ \n",
      "둘리 드림\n",
      "----------------------------------------\n",
      "\n"
     ]
    }
   ],
   "source": [
    "letter = '''\n",
    "안녕하세요 %s님,\n",
    "오늘 면접에 참석해 주실 수 있나요?\n",
    "시간은 %s입니다.\n",
    "그럼 이만~ \n",
    "둘리 드림'''\n",
    "\n",
    "names = ['Kim', 'Lee', 'Park']\n",
    "times=['10시','11시','12시'] \n",
    "for i in range(3):\n",
    "    print(letter % (names[i],times[i]))\n",
    "    print('-' * 40)\n",
    "    print()"
   ]
  },
  {
   "cell_type": "code",
   "execution_count": null,
   "metadata": {},
   "outputs": [],
   "source": []
  },
  {
   "cell_type": "code",
   "execution_count": null,
   "metadata": {},
   "outputs": [],
   "source": []
  },
  {
   "cell_type": "code",
   "execution_count": null,
   "metadata": {},
   "outputs": [],
   "source": []
  },
  {
   "cell_type": "code",
   "execution_count": null,
   "metadata": {},
   "outputs": [],
   "source": []
  },
  {
   "cell_type": "code",
   "execution_count": null,
   "metadata": {},
   "outputs": [],
   "source": []
  },
  {
   "cell_type": "code",
   "execution_count": null,
   "metadata": {},
   "outputs": [],
   "source": []
  },
  {
   "cell_type": "code",
   "execution_count": null,
   "metadata": {},
   "outputs": [],
   "source": []
  }
 ],
 "metadata": {
  "kernelspec": {
   "display_name": "Python 3",
   "language": "python",
   "name": "python3"
  },
  "language_info": {
   "codemirror_mode": {
    "name": "ipython",
    "version": 3
   },
   "file_extension": ".py",
   "mimetype": "text/x-python",
   "name": "python",
   "nbconvert_exporter": "python",
   "pygments_lexer": "ipython3",
   "version": "3.7.3"
  }
 },
 "nbformat": 4,
 "nbformat_minor": 2
}
