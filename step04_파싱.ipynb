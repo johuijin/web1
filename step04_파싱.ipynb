{
 "cells": [
  {
   "cell_type": "markdown",
   "metadata": {},
   "source": [
    " - 웹사이트 파싱"
   ]
  },
  {
   "cell_type": "code",
   "execution_count": 5,
   "metadata": {
    "scrolled": true
   },
   "outputs": [
    {
     "name": "stdout",
     "output_type": "stream",
     "text": [
      "123 가나다 마바사 abc kbs \n",
      "['123', '가나다', '마바사', 'abc', 'kbs']\n",
      "5\n"
     ]
    }
   ],
   "source": [
    "source=\"\"\"<li>123</li>\n",
    "<li>가나다</li>\n",
    "<li>마바사</li>\n",
    "<li>abc</li>\n",
    "<li>kbs</li>\"\"\"\n",
    "text=\"\"\n",
    "while(1):\n",
    "    source=source[source.find('<'):]                       #'<'를 찾거나\n",
    "    if source.find(\"<!--\")==0:\n",
    "        source=source[source.find(\"-->\")+3:]           # 주석 내용건너뜀\n",
    "    elif source.find(\"<script>\")==0:\n",
    "        source=source[source.find(\"<script>\")+9:]    #자바스크립트 내용 건너뜀\n",
    "    else:\n",
    "        source=source[source.find('>')+1:]                # '>'를 찾는다\n",
    "        for ch in source: #'>'이후부터 한글자씩 가져온다\n",
    "            if ch=='<':break                                     # 다시 '<'문자가 등장하면 종료\n",
    "            elif ch=='\\t' or ch=='\\n':continue           # 탭,개행문자는 순순 텍스트에 포함X\n",
    "            else: text+=ch                                        # 순수 텍스트 추가\n",
    "                \n",
    "        if text.endswith(' ') == False: \n",
    "            text += \" \"                                            # 공백으로 분리하기 위해 순수 텍스트 추출\n",
    "    if(source.find('<')==-1):break                           #'<' 문자가 더 이상 없는 경우 무한루프 종료         \n",
    "\n",
    "print(text)\n",
    "list=text.split()                                                   # 추출한 순수 텍스트 문자열을 공백 단위로 분리        \n",
    "print(list)\n",
    "print(len(list))                                                    #분리된 단어수 출력"
   ]
  },
  {
   "cell_type": "code",
   "execution_count": null,
   "metadata": {},
   "outputs": [],
   "source": [
    "#네이버 소스 확인 \n",
    "import requests\n",
    "req=requests.get(\"https://naver.com\")\n",
    "source=req.text\n",
    "\n",
    "print(source)\n"
   ]
  },
  {
   "cell_type": "code",
   "execution_count": null,
   "metadata": {},
   "outputs": [],
   "source": [
    "#네이버 소스 중에 <, > 과 <!-- , --> 도 지우기\n",
    "\n",
    "import requests\n",
    "req=requests.get(\"https://naver.com\")\n",
    "source=req.text\n",
    "text=\"\"\n",
    "\n",
    "while(1):\n",
    "    source=source[source.find('<'):] #'<'를 찾는다\n",
    "    if source.find(\"<!--\")==0:\n",
    "        source=source[source.find(\"-->\")+3:]      # 주석 내용건너뜀\n",
    "    elif source.find(\"<script>\")==0:\n",
    "        source=source[source.find(\"<script>\")+9:]  #자바스크립트 내용 건너뜀\n",
    "    else:\n",
    "        source=source[source.find('>')+1:]  # '>'를 찾는다\n",
    "        for ch in source:              #'>'이후부터 한글자씩 가져온다\n",
    "            if ch=='<':break           # 다시 '<'문자가 등장하면 종료\n",
    "            elif ch=='\\t' or ch=='\\n':continue   #탭,개행문자는 순순 텍스트에 포함X\n",
    "            else: text+=ch              # 순순 텍스트 추가\n",
    "                \n",
    "        if text.endswith(' ') == False: \n",
    "            text += \" \" # 공백으로 분리하기 위해 순수 텍스트 추출\n",
    "    if(source.find('<')==-1):break    #'<' 문자가 더 이상 없는 경우 무한루프 종료         \n",
    "        \n",
    "list=text.split() # 추출한 순수 텍스트 문자열을 공백 단위로 분리        \n",
    "print(list)\n",
    "print(len(list)) #분리된 단어수 출력"
   ]
  },
  {
   "cell_type": "code",
   "execution_count": 9,
   "metadata": {},
   "outputs": [
    {
     "name": "stdout",
     "output_type": "stream",
     "text": [
      "{'IT': 4, '국민': 3, '북한': 2, '경제': 2}\n",
      "<class 'list'>\n",
      "{'IT', '국민', '북한', '경제'}\n"
     ]
    }
   ],
   "source": [
    "L=['국민','경제','경제','북한','국민','북한','IT','IT','IT','국민','IT']\n",
    "L2=set(L)\n",
    "dic={}\n",
    "for i in L2:\n",
    "    cnt=0\n",
    "    for j in L:\n",
    "        if(i==j):\n",
    "            cnt +=1\n",
    "            dic[i]=cnt\n",
    "print(dic)         \n",
    "# print(type(L))\n",
    "# print(L2)"
   ]
  },
  {
   "cell_type": "code",
   "execution_count": null,
   "metadata": {},
   "outputs": [],
   "source": [
    "def my_sort(a):\n",
    "    return a[1]\n",
    "\n",
    "import requests\n",
    "req = requests.get('https://naver.com')\n",
    "source = req.text\n",
    "text=\"\"\n",
    "# print(source)\n",
    "\n",
    "while(1) :      \n",
    "    source = source[source.find('<'):] #'<'를 찾는다\n",
    "    if source.find(\"<!--\") == 0 :\n",
    "        source = source[source.find(\"-->\")+3:] #주석 내용 건너뜀\n",
    "    elif source.find(\"<script>\") == 0 : \n",
    "        source = source[source.find(\"</script>\")+9:] #자바스크립트 내용 건너뜀   \n",
    "    else :\n",
    "        source = source[source.find('>')+1:] #'>'를 찾는다\n",
    "        for ch in source :    #'>' 이후부터 한글자씩 가져온다\n",
    "            if ch == '<' : break    # 다시 '<' 문자 등장하면 종료\n",
    "            elif ch == '\\t' or ch == '\\n' : continue    #탭,개행 문자는 순수 텍스트에 포함x\n",
    "            else : text += ch   #순수 텍스트 추가     \n",
    "        if text.endswith(\" \") == False : text += \" \" #공백으로 분리하기 위해 순수 텍스트 추출 후 뒤에 공백문자 추가\n",
    "    if(source.find('<') == -1):break #'<' 문자가 더 이상 없는 경우 무한루프종료 \n",
    "\n",
    "# print(text)   \n",
    "\n",
    "L = text.split()\n",
    "L2 = set(L)\n",
    "dic={}\n",
    "for i in L2:\n",
    "    cnt = 0\n",
    "    for j in L:\n",
    "        if (i == j):\n",
    "            cnt +=1\n",
    "            dic[i] = cnt\n",
    "sorted(dic.items(), key=lambda k : k[1],reverse=True)"
   ]
  },
  {
   "cell_type": "code",
   "execution_count": null,
   "metadata": {},
   "outputs": [],
   "source": []
  },
  {
   "cell_type": "code",
   "execution_count": null,
   "metadata": {},
   "outputs": [],
   "source": []
  },
  {
   "cell_type": "code",
   "execution_count": null,
   "metadata": {},
   "outputs": [],
   "source": []
  }
 ],
 "metadata": {
  "kernelspec": {
   "display_name": "Python 3",
   "language": "python",
   "name": "python3"
  },
  "language_info": {
   "codemirror_mode": {
    "name": "ipython",
    "version": 3
   },
   "file_extension": ".py",
   "mimetype": "text/x-python",
   "name": "python",
   "nbconvert_exporter": "python",
   "pygments_lexer": "ipython3",
   "version": "3.7.3"
  }
 },
 "nbformat": 4,
 "nbformat_minor": 2
}
